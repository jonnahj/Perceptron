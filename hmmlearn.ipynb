{
 "cells": [
  {
   "cell_type": "code",
   "execution_count": 1,
   "metadata": {},
   "outputs": [],
   "source": [
    "import numpy as np \n",
    "import copy\n",
    "import re\n",
    "import sys\n",
    "import json\n",
    "\n",
    "fp = open(\"hmm-training-data/it_isdt_train_tagged.txt\",\"r\", encoding='utf8')\n",
    "#filename = sys.argv[1]\n",
    "#fp = open(filename,\"r\", encoding='utf8')\n",
    "lines = fp.readlines()\n",
    "transitions = {}\n",
    "emisions = {}\n",
    "uniqueness = {}\n",
    "\n",
    "i = 0\n",
    "for line in lines:\n",
    "    line_list = line.strip().split()\n",
    "    for word in line_list:\n",
    "        pos = word.split('/')[-1]\n",
    "        n = len(word) - len(pos) - 1\n",
    "        emision = word[:n]\n",
    "        \n",
    "        if(pos in transitions.keys()):\n",
    "            transitions[pos] += 1\n",
    "        else:\n",
    "            transitions[pos] = 1\n",
    "        \n",
    "        if(emision in emisions.keys()):\n",
    "            emisions[emision] += 1\n",
    "        else:\n",
    "            emisions[emision] = 1\n",
    "            \n",
    "        if(pos in uniqueness.keys()):\n",
    "            uniqueness[pos].add(emision)\n",
    "        else:\n",
    "            uniqueness[pos] = set(emision)\n",
    "\n",
    "#print(\"The tags are: \", transitions, \"Count: \", len(transitions))\n",
    "#print(\"The words are: \", emisions, \"Count: \", len(emisions))\n",
    "\n",
    "uniqueness = {key: len(value) for key, value in uniqueness.items()}\n",
    "total = sum(uniqueness.values())\n",
    "uniqueness = {key: value/total for key, value in uniqueness.items()}\n",
    "#uniqueness"
   ]
  },
  {
   "cell_type": "code",
   "execution_count": 2,
   "metadata": {},
   "outputs": [],
   "source": [
    "transition_matrix = {}\n",
    "blank = {k: 0 for k in transitions.keys()}\n",
    "for i in transitions.keys():\n",
    "    transition_matrix[i] = copy.deepcopy(blank)\n",
    "emision_matrix = {}\n",
    "for i in emisions.keys():\n",
    "    emision_matrix[i] = copy.deepcopy(blank)"
   ]
  },
  {
   "cell_type": "code",
   "execution_count": 75,
   "metadata": {},
   "outputs": [],
   "source": [
    "for line in lines:\n",
    "    line_list = line.split()\n",
    "    prev_tag = \"\"\n",
    "    for i in range(len(line_list)):\n",
    "        word = line_list[i]\n",
    "        pos = word.split('/')[-1]\n",
    "        n = len(word) - len(pos) - 1\n",
    "        emision = word[:n]\n",
    "        emision_matrix[emision][pos] += 1\n",
    "        if(i==0):\n",
    "            prev_tag = pos\n",
    "            continue\n",
    "\n",
    "        transition_matrix[prev_tag][pos] += 1\n",
    "        prev_tag = pos\n",
    "\n",
    "emision_matrix[\"__________\"] = uniqueness\n",
    "#transition_matrix\n",
    "#emision_matrix"
   ]
  },
  {
   "cell_type": "code",
   "execution_count": 76,
   "metadata": {},
   "outputs": [],
   "source": [
    "alpha = 0.0001\n",
    "for i in emision_matrix.keys():\n",
    "    emision_matrix[i] = {key: value+alpha for key, value in emision_matrix[i].items()}\n",
    "    total = sum(emision_matrix[i].values())\n",
    "    emision_matrix[i] = {key: value/total for key, value in emision_matrix[i].items()}\n",
    "    #print(sum(emision_matrix[i].values()))\n",
    "\n",
    "for i in transition_matrix.keys():\n",
    "    transition_matrix[i] = {key: value+alpha for key, value in transition_matrix[i].items()}\n",
    "    total = sum(transition_matrix[i].values())\n",
    "    transition_matrix[i] = {key: value/total for key, value in transition_matrix[i].items()}\n",
    "    #print(sum(transition_matrix[i].values()))\n",
    "\n",
    "#print(emision_matrix.keys())\n",
    "#print(transition_matrix.keys())"
   ]
  },
  {
   "cell_type": "code",
   "execution_count": 77,
   "metadata": {},
   "outputs": [],
   "source": [
    "new_dict = {\"e\":emision_matrix, \"t\":transition_matrix}\n",
    "with open(\"hmmmodel.txt\",\"w\") as file:\n",
    "    file.write(json.dumps(new_dict)) "
   ]
  },
  {
   "cell_type": "code",
   "execution_count": null,
   "metadata": {},
   "outputs": [],
   "source": []
  },
  {
   "cell_type": "code",
   "execution_count": null,
   "metadata": {},
   "outputs": [],
   "source": []
  },
  {
   "cell_type": "code",
   "execution_count": null,
   "metadata": {},
   "outputs": [],
   "source": []
  }
 ],
 "metadata": {
  "kernelspec": {
   "display_name": "Python 3",
   "language": "python",
   "name": "python3"
  },
  "language_info": {
   "codemirror_mode": {
    "name": "ipython",
    "version": 3
   },
   "file_extension": ".py",
   "mimetype": "text/x-python",
   "name": "python",
   "nbconvert_exporter": "python",
   "pygments_lexer": "ipython3",
   "version": "3.8.5"
  }
 },
 "nbformat": 4,
 "nbformat_minor": 4
}
