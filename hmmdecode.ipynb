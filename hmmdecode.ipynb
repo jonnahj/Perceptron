{
 "cells": [
  {
   "cell_type": "code",
   "execution_count": 125,
   "metadata": {},
   "outputs": [],
   "source": [
    "import numpy as np \n",
    "import copy\n",
    "import re\n",
    "import sys\n",
    "import json\n",
    "\n",
    "x = {}\n",
    "with open(\"hmmmodel.txt\", \"r\") as file:\n",
    "    file_content = file.read()\n",
    "    x = json.loads(file_content)\n",
    "\n",
    "emision_matrix = x[\"e\"]\n",
    "transition_matrix = x[\"t\"]\n",
    "blank = set(transition_matrix.keys())"
   ]
  },
  {
   "cell_type": "code",
   "execution_count": 126,
   "metadata": {},
   "outputs": [],
   "source": [
    "def tag_a_line(line):\n",
    "    output_matrix = []\n",
    "    blank = {k: [0,\"\"] for k in transition_matrix.keys()}\n",
    "    prev_word = \"\"\n",
    "\n",
    "    for i in range(len(line)):\n",
    "        output_matrix.append(copy.deepcopy(blank))\n",
    "        if i == 0:\n",
    "            if(line[i] not in emision_matrix.keys()):\n",
    "                line[i] = \"__________\"\n",
    "            \n",
    "            for pos in output_matrix[i].keys():\n",
    "                tag = ''\n",
    "                result = 0\n",
    "                for pos_prev in blank:\n",
    "                    prev_result = result\n",
    "                    t = transition_matrix[pos_prev][pos]\n",
    "                    e = emision_matrix[line[i]][pos]\n",
    "                    result = max(result, t * e)\n",
    "                    tag =  pos_prev if (result != prev_result) else tag\n",
    "\n",
    "                output_matrix[i][pos] = [result,tag]\n",
    "            \n",
    "            flag_first = 0\n",
    "            prev_word = i\n",
    "            continue\n",
    "\n",
    "        tag = ''\n",
    "        result = 0\n",
    "        for pos in output_matrix[i].keys():\n",
    "            tag = ''\n",
    "            result = 0\n",
    "            for pos_prev in output_matrix[prev_word].keys():\n",
    "                prev_result = result\n",
    "                prior = output_matrix[prev_word][pos_prev][0]\n",
    "                #prior = output_matrix[prev_word][pos_prev][0] if(output_matrix[prev_word][pos_prev][0] != 0) else alpha\n",
    "                t = transition_matrix[pos_prev][pos]\n",
    "                if(line[i] not in emision_matrix.keys()):\n",
    "                    line[i] = \"__________\"\n",
    "                e = emision_matrix[line[i]][pos]\n",
    "                result = max(result, prior * t * e)\n",
    "                tag =  pos_prev if (result != prev_result) else tag\n",
    "\n",
    "            output_matrix[i][pos] = [result,tag]\n",
    "            \n",
    "        prev_word = i\n",
    "\n",
    "    #output_matrix.keys()\n",
    "    solution = []\n",
    "    x = max(output_matrix[-1], key=output_matrix[-1].get)\n",
    "    #print(x)\n",
    "    solution.append(x)\n",
    "    for i in range(len(line)-2,-1,-1):\n",
    "        #print(\"Pos linked is: \", output_matrix[i+1][solution[-1]][1])\n",
    "        #print(\"Pos Suggested is: \", output_matrix[i][solution[-1]][1])\n",
    "        solution.append(output_matrix[i+1][solution[-1]][1])\n",
    "    return solution"
   ]
  },
  {
   "cell_type": "code",
   "execution_count": 127,
   "metadata": {},
   "outputs": [
    {
     "data": {
      "text/plain": [
       "['FB', 'PE', 'V', 'RD', 'A', 'S', 'E', 'S', 'FB', 'FS']"
      ]
     },
     "execution_count": 127,
     "metadata": {},
     "output_type": "execute_result"
    }
   ],
   "source": [
    "x = \"\\\" Lei ha la tipica camminata da spia \\\" .\"\n",
    "y = tag_a_line(x.split())\n",
    "y.reverse()\n",
    "y"
   ]
  },
  {
   "cell_type": "code",
   "execution_count": 128,
   "metadata": {},
   "outputs": [],
   "source": [
    "#fp = open(\"hmm-training-data/it_isdt_dev_raw.txt\",\"r\", encoding='utf8')\n",
    "filename = sys.argv[1]\n",
    "fp = open(filename,\"r\", encoding='utf8')\n",
    "lines = fp.readlines()\n",
    "for line in lines:\n",
    "    x = line.strip().split()\n",
    "    s = tag_a_line(x.copy())\n",
    "    s.reverse()\n",
    "    with open('hmmoutput.txt', 'a', encoding='utf8') as f:\n",
    "        for i in range(0,len(x)):\n",
    "            f.write(x[i])\n",
    "            f.write(\"/\")\n",
    "            f.write(s[i])\n",
    "            f.write(\" \")\n",
    "        f.write(\"\\n\")\n",
    "f.close()"
   ]
  },
  {
   "cell_type": "code",
   "execution_count": 80,
   "metadata": {},
   "outputs": [
    {
     "ename": "SyntaxError",
     "evalue": "invalid syntax (<ipython-input-80-50efa168918d>, line 1)",
     "output_type": "error",
     "traceback": [
      "\u001b[1;36m  File \u001b[1;32m\"<ipython-input-80-50efa168918d>\"\u001b[1;36m, line \u001b[1;32m1\u001b[0m\n\u001b[1;33m    \"/FB Lei/FB ha/FB la/FB tipica/FB camminata/FB da/FB spia/FB \"/FB ./FS\u001b[0m\n\u001b[1;37m                                                                       ^\u001b[0m\n\u001b[1;31mSyntaxError\u001b[0m\u001b[1;31m:\u001b[0m invalid syntax\n"
     ]
    }
   ],
   "source": [
    "\"/FB Lei/FB ha/FB la/FB tipica/FB camminata/FB da/FB spia/FB \"/FB ./FS \n",
    "\"/FB Lei/PE ha/V la/RD tipica/A camminata/S da/E spia/S \"/FB ./FS\n",
    "['FB', 'PE', 'V', 'RD', 'A', 'S', 'E', 'S', 'FB', 'FS']"
   ]
  },
  {
   "cell_type": "code",
   "execution_count": null,
   "metadata": {},
   "outputs": [],
   "source": []
  }
 ],
 "metadata": {
  "kernelspec": {
   "display_name": "Python 3",
   "language": "python",
   "name": "python3"
  },
  "language_info": {
   "codemirror_mode": {
    "name": "ipython",
    "version": 3
   },
   "file_extension": ".py",
   "mimetype": "text/x-python",
   "name": "python",
   "nbconvert_exporter": "python",
   "pygments_lexer": "ipython3",
   "version": "3.8.5"
  }
 },
 "nbformat": 4,
 "nbformat_minor": 4
}
